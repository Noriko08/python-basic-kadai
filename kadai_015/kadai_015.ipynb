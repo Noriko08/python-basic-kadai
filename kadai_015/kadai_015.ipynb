{
  "nbformat": 4,
  "nbformat_minor": 0,
  "metadata": {
    "colab": {
      "provenance": []
    },
    "kernelspec": {
      "name": "python3",
      "display_name": "Python 3"
    },
    "language_info": {
      "name": "python"
    }
  },
  "cells": [
    {
      "cell_type": "code",
      "execution_count": 4,
      "metadata": {
        "colab": {
          "base_uri": "https://localhost:8080/"
        },
        "id": "lZeqBuXKKiDU",
        "outputId": "2a990b32-d834-4aa1-b175-6d9e01b30594"
      },
      "outputs": [
        {
          "output_type": "stream",
          "name": "stdout",
          "text": [
            "太郎13\n"
          ]
        }
      ],
      "source": [
        "class Human:\n",
        "    def __init__(self):\n",
        "        self.name = \"\"\n",
        "        self.age = \"\"\n",
        "\n",
        "    # メソッドを定義する\n",
        "    def set_name(self, name):\n",
        "        self.name = name\n",
        "\n",
        "    def set_age(self, age):\n",
        "        self.age = age\n",
        "\n",
        "    def printinfo(self):\n",
        "        print(self.name + str(self.age))\n",
        "\n",
        "# インスタンス化する\n",
        "taro = Human()\n",
        "\n",
        "# メソッドにアクセスして実行する\n",
        "taro.set_name(\"太郎\")\n",
        "taro.set_age(13)\n",
        "taro.printinfo()"
      ]
    }
  ]
}