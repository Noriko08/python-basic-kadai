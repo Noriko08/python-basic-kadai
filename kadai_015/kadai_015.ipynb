{
  "nbformat": 4,
  "nbformat_minor": 0,
  "metadata": {
    "colab": {
      "provenance": []
    },
    "kernelspec": {
      "name": "python3",
      "display_name": "Python 3"
    },
    "language_info": {
      "name": "python"
    }
  },
  "cells": [
    {
      "cell_type": "code",
      "execution_count": 6,
      "metadata": {
        "colab": {
          "base_uri": "https://localhost:8080/"
        },
        "id": "lZeqBuXKKiDU",
        "outputId": "03d19543-496b-4e99-becd-cea0e7a1961b"
      },
      "outputs": [
        {
          "output_type": "stream",
          "name": "stdout",
          "text": [
            "太郎\n",
            "13\n"
          ]
        }
      ],
      "source": [
        "class Human:\n",
        "    def __init__(self,name,age):\n",
        "        self.name = name\n",
        "        self.age = age\n",
        "\n",
        "    def printinfo(self):\n",
        "        print(self.name)\n",
        "        print(self.age)\n",
        "\n",
        "# インスタンス化する\n",
        "taro = Human(\"太郎\",13)\n",
        "\n",
        "# メソッドにアクセスして実行する\n",
        "taro.printinfo()"
      ]
    }
  ]
}