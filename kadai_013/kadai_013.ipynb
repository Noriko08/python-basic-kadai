{
  "nbformat": 4,
  "nbformat_minor": 0,
  "metadata": {
    "colab": {
      "provenance": []
    },
    "kernelspec": {
      "name": "python3",
      "display_name": "Python 3"
    },
    "language_info": {
      "name": "python"
    }
  },
  "cells": [
    {
      "cell_type": "code",
      "execution_count": 2,
      "metadata": {
        "colab": {
          "base_uri": "https://localhost:8080/"
        },
        "id": "VF3kUf7QEL2p",
        "outputId": "29967728-708f-4a85-cc7f-20d26a2833a4"
      },
      "outputs": [
        {
          "output_type": "stream",
          "name": "stdout",
          "text": [
            "121.0円\n"
          ]
        }
      ],
      "source": [
        "def calculate_tax(price,tax):\n",
        "    # 与えられた引数priceに消費税を加算し、変数totalに代入する\n",
        "    total = price * (100 + tax) / 100\n",
        "\n",
        "    # 変数totalの値を出力する\n",
        "    return(f\"{total}円\")\n",
        "\n",
        "print(calculate_tax(110,10))"
      ]
    }
  ]
}