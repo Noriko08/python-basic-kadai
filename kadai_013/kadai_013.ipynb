{
  "nbformat": 4,
  "nbformat_minor": 0,
  "metadata": {
    "colab": {
      "provenance": []
    },
    "kernelspec": {
      "name": "python3",
      "display_name": "Python 3"
    },
    "language_info": {
      "name": "python"
    }
  },
  "cells": [
    {
      "cell_type": "code",
      "execution_count": 3,
      "metadata": {
        "colab": {
          "base_uri": "https://localhost:8080/"
        },
        "id": "VF3kUf7QEL2p",
        "outputId": "2c86c8f4-6086-47c4-cad9-7a7bca599c2b"
      },
      "outputs": [
        {
          "output_type": "stream",
          "name": "stdout",
          "text": [
            "121.0円\n"
          ]
        }
      ],
      "source": [
        "def calculate_tax(price,tax):\n",
        "    # 与えられた引数priceに消費税を加算し、変数totalに代入する\n",
        "    total = price * (100 + tax) / 100\n",
        "\n",
        "    # 変数totalの値を出力する\n",
        "    return(total)\n",
        "\n",
        "print(f\"{calculate_tax(110,10)}円\")"
      ]
    }
  ]
}