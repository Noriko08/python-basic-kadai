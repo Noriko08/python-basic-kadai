{
  "nbformat": 4,
  "nbformat_minor": 0,
  "metadata": {
    "colab": {
      "provenance": []
    },
    "kernelspec": {
      "name": "python3",
      "display_name": "Python 3"
    },
    "language_info": {
      "name": "python"
    }
  },
  "cells": [
    {
      "cell_type": "code",
      "execution_count": 1,
      "metadata": {
        "id": "sl-9I5HoF6QA",
        "colab": {
          "base_uri": "https://localhost:8080/"
        },
        "outputId": "da6a6528-6df9-4fb0-b613-e8cfb8c0b3e0"
      },
      "outputs": [
        {
          "output_type": "stream",
          "name": "stdout",
          "text": [
            "330.0\n"
          ]
        }
      ],
      "source": [
        "def total(price1,price2,tax):\n",
        "    return (price1 + price2) * tax\n",
        "\n",
        "print (total(100,200,1.1))"
      ]
    }
  ]
}